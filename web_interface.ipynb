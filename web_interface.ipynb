{
 "cells": [
  {
   "cell_type": "code",
   "execution_count": 58,
   "metadata": {},
   "outputs": [],
   "source": [
    "from flask import Flask, request, render_template\n",
    "from whoosh.qparser import QueryParser\n",
    "from whoosh.index import open_dir\n",
    "import webbrowser"
   ]
  },
  {
   "cell_type": "code",
   "execution_count": 59,
   "metadata": {},
   "outputs": [],
   "source": [
    "ix = open_dir(\"myindex\")"
   ]
  },
  {
   "cell_type": "code",
   "execution_count": 60,
   "metadata": {},
   "outputs": [],
   "source": [
    "def searchArxiv(key_words, ix=ix):\n",
    "    resultList = []\n",
    "    with ix.searcher() as searcher:\n",
    "        parser = QueryParser(\"subj\", ix.schema)\n",
    "        query = parser.parse(key_words)\n",
    "        results = searcher.search(query, limit=None)\n",
    "        if len(results) != 0:\n",
    "            for result in results:\n",
    "                resultList.append(result['content'])\n",
    "        return resultList"
   ]
  },
  {
   "cell_type": "code",
   "execution_count": 64,
   "metadata": {},
   "outputs": [
    {
     "name": "stdout",
     "output_type": "stream",
     "text": [
      " * Serving Flask app \"APP\" (lazy loading)\n",
      " * Environment: production\n",
      "   WARNING: This is a development server. Do not use it in a production deployment.\n",
      "   Use a production WSGI server instead.\n",
      " * Debug mode: off\n"
     ]
    },
    {
     "name": "stderr",
     "output_type": "stream",
     "text": [
      " * Running on http://127.0.0.1:5000/ (Press CTRL+C to quit)\n"
     ]
    }
   ],
   "source": [
    "app = Flask(\"APP\")\n",
    "\n",
    "@app.route('/')\n",
    "def main_page():\n",
    "    return render_template('arvix_search.html')\n",
    "\n",
    "@app.route('/', methods=['POST'])\n",
    "def main_page_post():\n",
    "    kw = request.form['keyword']\n",
    "    resultList = searchArxiv(kw)\n",
    "    if len(resultList) == 0:\n",
    "        output = \"No Matched Result.\"\n",
    "    else:\n",
    "        resultList.append(\"<br>{} Matched\".format(len(resultList)))\n",
    "        output = \"<br><br>\".join(resultList)\n",
    "    return render_template('arvix_search.html',output=output)\n",
    "\n",
    "if __name__ == \"__main__\":\n",
    "    webbrowser.open(\"http://127.0.0.1:5000/\")    \n",
    "    app.run()"
   ]
  },
  {
   "cell_type": "code",
   "execution_count": null,
   "metadata": {},
   "outputs": [],
   "source": []
  }
 ],
 "metadata": {
  "kernelspec": {
   "display_name": "Python 3",
   "language": "python",
   "name": "python3"
  },
  "language_info": {
   "codemirror_mode": {
    "name": "ipython",
    "version": 3
   },
   "file_extension": ".py",
   "mimetype": "text/x-python",
   "name": "python",
   "nbconvert_exporter": "python",
   "pygments_lexer": "ipython3",
   "version": "3.7.3"
  }
 },
 "nbformat": 4,
 "nbformat_minor": 4
}
